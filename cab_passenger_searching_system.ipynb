{
 "cells": [
  {
   "cell_type": "code",
   "execution_count": 144,
   "metadata": {
    "collapsed": true
   },
   "outputs": [],
   "source": [
    "from mesa import Agent, Model\n",
    "from mesa.time import RandomActivation\n",
    "import random\n",
    "from mesa.space import MultiGrid\n",
    "import numpy as np\n",
    "from mesa.datacollection import DataCollector\n",
    "from operator import attrgetter\n",
    "\n",
    "N_driver = 1000\n",
    "N_passenger = 5000"
   ]
  },
  {
   "cell_type": "code",
   "execution_count": 145,
   "metadata": {},
   "outputs": [],
   "source": [
    "class PassengerModel(Agent):\n",
    "    def __init__(self,unique_id, model):\n",
    "        super().__init__(unique_id, model)\n",
    "        self.got_cab = 0\n",
    "        self.distance = 0\n",
    "        self.ask_price = 10\n",
    "        self.state = 1 # 0, not looking for cab; 1 1ooking for; 2 on a cab\n",
    "        self.start_journey = 0\n",
    "        self.cost = 0\n",
    "        self.journeys_time = 0\n",
    "        \n",
    "    def step(self):\n",
    "        if self.state == 1:\n",
    "            # Group 1: physically search by moving more distance\n",
    "            if self.unique_id <= N_passenger/2:\n",
    "                self.move()\n",
    "            else:\n",
    "                if self.ask_price <= 15:\n",
    "                    self.ask_price += 1                  \n",
    "        else:\n",
    "            self.drop_off()\n",
    "        \n",
    "    def move(self):\n",
    "        possible_steps = self.model.grid.get_neighborhood(self.pos, moore=True,include_center=False)\n",
    "        new_position = random.choice(possible_steps)\n",
    "        self.model.grid.move_agent(self, new_position)\n",
    "        \n",
    "    def drop_off(self):\n",
    "        if self.state == 2:\n",
    "            if self.model.time - self.start_journey >= 10:\n",
    "                self.state = 1\n",
    "                self.cost += self.ask_price\n",
    "                self.journeys_time += 1\n",
    "                self.ask_price = 10\n",
    "                \n"
   ]
  },
  {
   "cell_type": "code",
   "execution_count": 146,
   "metadata": {},
   "outputs": [],
   "source": [
    "class DriverModel(Agent):\n",
    "    def __init__(self,unique_id, model):\n",
    "        super().__init__(unique_id, model)\n",
    "        self.wealth = 0\n",
    "        self.state = 0   # 0: idle ; -1: occupied\n",
    "        self.start_journey = 0\n",
    "        self.jobs_time = 0\n",
    "    \n",
    "    def step(self):\n",
    "        if self.state == 0:\n",
    "            self.find_passenger()\n",
    "        else:\n",
    "            self.drop_off_passenger()\n",
    "            \n",
    "            \n",
    "    def find_passenger(self):\n",
    "        gridmates = self.model.grid.get_cell_list_contents([self.pos])\n",
    "        if len(gridmates) > 1:\n",
    "            passenger_list = [p for p in gridmates if p.unique_id <= N_passenger and p.state == 1]\n",
    "            if len(passenger_list) >= 1:\n",
    "                selected_passenger = max(passenger_list, key=attrgetter('ask_price'))\n",
    "                self.wealth += selected_passenger.ask_price\n",
    "                self.state = -1\n",
    "                selected_passenger.state = 2\n",
    "                selected_passenger.start_journey = self.model.time\n",
    "                self.start_journey = self.model.time\n",
    "        \n",
    "    def drop_off_passenger(self):\n",
    "        if self.model.time - self.start_journey >= 10:\n",
    "            self.state = 0\n",
    "            self.jobs_time += 1\n",
    "        \n",
    "            "
   ]
  },
  {
   "cell_type": "code",
   "execution_count": 147,
   "metadata": {},
   "outputs": [
    {
     "data": {
      "text/plain": [
       "[100, 101, 102, 103, 104]"
      ]
     },
     "execution_count": 147,
     "metadata": {},
     "output_type": "execute_result"
    }
   ],
   "source": [
    "[i for i in range(100, 105)]"
   ]
  },
  {
   "cell_type": "code",
   "execution_count": 148,
   "metadata": {
    "collapsed": true
   },
   "outputs": [],
   "source": [
    "class GrabModel(Model):\n",
    "    def __init__(self, width, height, N_driver, N_passenger):\n",
    "        self.num_drivers = N_driver\n",
    "        self.num_passenger = N_passenger\n",
    "        self.grid = MultiGrid(width, height,True)\n",
    "        self.schedule = RandomActivation(self)\n",
    "        self.time = 0\n",
    "        \n",
    "        for i in range(self.num_passenger):\n",
    "            a = PassengerModel(i, self)          \n",
    "            self.schedule.add(a)\n",
    "            \n",
    "            x = random.randrange(self.grid.width)\n",
    "            y = random.randrange(self.grid.height)\n",
    "            self.grid.place_agent(a, (x,y))\n",
    "            \n",
    "        for i in range(self.num_passenger, self.num_passenger+self.num_drivers):\n",
    "            a = DriverModel(i,self)          \n",
    "            self.schedule.add(a)\n",
    "            \n",
    "            x = random.randrange(self.grid.width)\n",
    "            y = random.randrange(self.grid.height)\n",
    "            self.grid.place_agent(a, (x,y)) \n",
    "            \n",
    "        self.datacollector = DataCollector(\n",
    "            #model_reporters={\"Gini\": compute_gini},\n",
    "            agent_reporters={\"Pay\": lambda a: a.unique_id})  \n",
    "        \n",
    "            \n",
    "    def step(self):\n",
    "        self.datacollector.collect(self)\n",
    "        self.schedule.step()\n",
    "        self.time += 1"
   ]
  },
  {
   "cell_type": "code",
   "execution_count": 149,
   "metadata": {},
   "outputs": [],
   "source": [
    "model = GrabModel(10,10,N_driver,N_passenger)\n",
    "for i in range(100):\n",
    "    model.step()\n",
    "    \n"
   ]
  },
  {
   "cell_type": "code",
   "execution_count": 150,
   "metadata": {},
   "outputs": [
    {
     "data": {
      "text/plain": [
       "(array([   6.,    8.,   12.,   35.,   46.,   44.,   41.,   58.,   55.,  695.]),\n",
       " array([ 110. ,  114.5,  119. ,  123.5,  128. ,  132.5,  137. ,  141.5,\n",
       "         146. ,  150.5,  155. ]),\n",
       " <a list of 10 Patch objects>)"
      ]
     },
     "execution_count": 150,
     "metadata": {},
     "output_type": "execute_result"
    },
    {
     "data": {
      "image/png": "[encoded data removed]",
      "text/plain": [
       "<matplotlib.figure.Figure at 0x116d77fd0>"
      ]
     },
     "metadata": {},
     "output_type": "display_data"
    }
   ],
   "source": [
    "%matplotlib inline\n",
    "import matplotlib.pyplot as plt\n",
    "agent_wealth = [a.wealth for a in model.schedule.agents if a.unique_id >= N_passenger]\n",
    "plt.hist(agent_wealth)\n",
    "\n"
   ]
  },
  {
   "cell_type": "code",
   "execution_count": 151,
   "metadata": {},
   "outputs": [
    {
     "data": {
      "text/plain": [
       "(array([    0.,     0.,     0.,     0.,     0.,  1000.,     0.,     0.,\n",
       "            0.,     0.]),\n",
       " array([ 8.5,  8.6,  8.7,  8.8,  8.9,  9. ,  9.1,  9.2,  9.3,  9.4,  9.5]),\n",
       " <a list of 10 Patch objects>)"
      ]
     },
     "execution_count": 151,
     "metadata": {},
     "output_type": "execute_result"
    },
    {
     "data": {
      "image/png": "[encoded data removed]",
      "text/plain": [
       "<matplotlib.figure.Figure at 0x11b95d630>"
      ]
     },
     "metadata": {},
     "output_type": "display_data"
    }
   ],
   "source": [
    "agent_jobs_time = [a.jobs_time for a in model.schedule.agents if a.unique_id >= N_passenger]\n",
    "plt.hist(agent_jobs_time)"
   ]
  },
  {
   "cell_type": "code",
   "execution_count": 152,
   "metadata": {},
   "outputs": [
    {
     "data": {
      "text/plain": [
       "(array([  2.46100000e+03,   0.00000000e+00,   0.00000000e+00,\n",
       "          0.00000000e+00,   0.00000000e+00,   3.80000000e+01,\n",
       "          0.00000000e+00,   0.00000000e+00,   0.00000000e+00,\n",
       "          2.00000000e+00]),\n",
       " array([ 0. ,  0.2,  0.4,  0.6,  0.8,  1. ,  1.2,  1.4,  1.6,  1.8,  2. ]),\n",
       " <a list of 10 Patch objects>)"
      ]
     },
     "execution_count": 152,
     "metadata": {},
     "output_type": "execute_result"
    },
    {
     "data": {
      "image/png": "[encoded data removed]",
      "text/plain": [
       "<matplotlib.figure.Figure at 0x11b979470>"
      ]
     },
     "metadata": {},
     "output_type": "display_data"
    }
   ],
   "source": [
    "agent_jobs_time = [a.journeys_time for a in model.schedule.agents if a.unique_id <= N_passenger/2]\n",
    "plt.hist(agent_jobs_time)"
   ]
  },
  {
   "cell_type": "code",
   "execution_count": 153,
   "metadata": {},
   "outputs": [
    {
     "data": {
      "text/plain": [
       "(array([ 461.,  118.,   51.,   56.,  939.,  708.,   40.,   31.,   47.,   49.]),\n",
       " array([ 0. ,  0.9,  1.8,  2.7,  3.6,  4.5,  5.4,  6.3,  7.2,  8.1,  9. ]),\n",
       " <a list of 10 Patch objects>)"
      ]
     },
     "execution_count": 153,
     "metadata": {},
     "output_type": "execute_result"
    },
    {
     "data": {
      "image/png": "[encoded data removed]",
      "text/plain": [
       "<matplotlib.figure.Figure at 0x11b95dac8>"
      ]
     },
     "metadata": {},
     "output_type": "display_data"
    }
   ],
   "source": [
    "agent_jobs_time = [a.journeys_time for a in model.schedule.agents if a.unique_id >= N_passenger/2 and a.unique_id < N_passenger]\n",
    "plt.hist(agent_jobs_time)"
   ]
  },
  {
   "cell_type": "code",
   "execution_count": 154,
   "metadata": {},
   "outputs": [
    {
     "data": {
      "text/plain": [
       "<matplotlib.colorbar.Colorbar at 0x11bd15898>"
      ]
     },
     "execution_count": 154,
     "metadata": {},
     "output_type": "execute_result"
    },
    {
     "data": {
      "image/png": "[encoded data removed]",
      "text/plain": [
       "<matplotlib.figure.Figure at 0x11bc11a90>"
      ]
     },
     "metadata": {},
     "output_type": "display_data"
    }
   ],
   "source": [
    "ratio_counts = np.zeros((model.grid.width,model.grid.height))\n",
    "for cell in model.grid.coord_iter():\n",
    "    cell_content, x, y = cell\n",
    "    driver_count = len([a for a in cell_content if a.unique_id >= N_passenger])\n",
    "    passenger_count = len([a for a in cell_content if a.unique_id <= N_passenger])\n",
    "    ratio_counts[x][y] = (passenger_count+1)/(driver_count+1)  #avoid division by 0\n",
    "plt.imshow(ratio_counts, interpolation='nearest')\n",
    "plt.colorbar()"
   ]
  },
  {
   "cell_type": "code",
   "execution_count": null,
   "metadata": {
    "collapsed": true
   },
   "outputs": [],
   "source": []
  }
 ],
 "metadata": {
  "celltoolbar": "Raw Cell Format",
  "kernelspec": {
   "display_name": "Python 3",
   "language": "python",
   "name": "python3"
  },
  "language_info": {
   "codemirror_mode": {
    "name": "ipython",
    "version": 3
   },
   "file_extension": ".py",
   "mimetype": "text/x-python",
   "name": "python",
   "nbconvert_exporter": "python",
   "pygments_lexer": "ipython3",
   "version": "3.6.3"
  }
 },
 "nbformat": 4,
 "nbformat_minor": 2
}
