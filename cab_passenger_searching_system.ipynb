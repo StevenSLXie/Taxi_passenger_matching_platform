{
 "cells": [
  {
   "cell_type": "markdown",
   "metadata": {
    "collapsed": true
   },
   "source": [
    "# Driver/Passenger Simulator \n",
    "\n",
    "This notebook simulates the behaviors of taxi drivers and passengers in a taxi booking system\n",
    "[Mesa](http://mesa.readthedocs.io/en/latest/index.html) is used to build an agent based modeling system\n",
    "\n",
    "The simulation assumes that there are two types of agents in the model, namely passengers and drivers\n",
    "\n",
    "## Driver\n",
    "Drivers behave in a way that they always search for the highest bid from passengers\n",
    "They search within a region the passenger request with highest price and accpet the job\n",
    "A job spans a centain period and when it finishes, the driver continues to look for another passenger\n",
    "\n",
    "## Passenger\n",
    "Passengers try to look for a taxi that can take them to the destination \n",
    "They are two types of passengers in this simulation\n",
    "\n",
    "### Type 1\n",
    "If they cannot find a taxi in the current time instant, they move to the neighboring area in the next time step\n",
    "\n",
    "### Type 2:\n",
    "If they cannot find a taxi in the current time instant, they raise the price by one unit until an upper limite is reached\n",
    "\n",
    "It is assumed that are the trips in the simulation are of the same distance/time\n",
    "Furthermore, it is assumed that passenger immediately looks for another taxi once a trip is finished"
   ]
  },
  {
   "cell_type": "code",
   "execution_count": 1,
   "metadata": {
    "collapsed": true
   },
   "outputs": [],
   "source": [
    "from mesa import Agent, Model\n",
    "from mesa.time import RandomActivation\n",
    "import random\n",
    "from mesa.space import MultiGrid\n",
    "import numpy as np\n",
    "from mesa.datacollection import DataCollector\n",
    "from operator import attrgetter\n",
    "\n",
    "# define the number of passengers and drivers\n",
    "N_driver = 200\n",
    "N_passenger = 200"
   ]
  },
  {
   "cell_type": "code",
   "execution_count": 2,
   "metadata": {
    "collapsed": true
   },
   "outputs": [],
   "source": [
    "class PassengerModel(Agent):\n",
    "    def __init__(self,unique_id, model):\n",
    "        super().__init__(unique_id, model)  # a unique_id for each passenger\n",
    "        self.ask_price = 10  # in this version, all passengers have the same initial ask_price\n",
    "        self.state = 1 # 1 1ooking for; 2 on a cab\n",
    "        self.start_journey = 0  # record the time when boarding the taxi\n",
    "        self.cost = 0 # accumulated expense of all trips\n",
    "        self.journeys_time = 0 # record the number of trips taken\n",
    "    \n",
    "    # step() in Mesa describes the behavior of the agent at each time step\n",
    "    def step(self):\n",
    "        # if the agent is looking for a taxi\n",
    "        if self.state == 1:\n",
    "            # Group 1: physically search by moving more distance\n",
    "            if self.unique_id <= N_passenger/2:\n",
    "                self.move()\n",
    "            # Group 2: raise the ask_price until an upper limit\n",
    "            else:\n",
    "                if self.ask_price <= 15:\n",
    "                    self.ask_price += 1     \n",
    "                    \n",
    "        # if already in the taxi, check whether the drop-off timer expires \n",
    "        else:\n",
    "            self.drop_off()\n",
    "    \n",
    "    # Group 1 passengers move in order to find a taxi\n",
    "    def move(self):\n",
    "        # an agent can only go to the neighboring block in one step\n",
    "        possible_steps = self.model.grid.get_neighborhood(self.pos, moore=True,include_center=False)\n",
    "        new_position = random.choice(possible_steps)\n",
    "        self.model.grid.move_agent(self, new_position)\n",
    "        \n",
    "    def drop_off(self):\n",
    "        if self.state == 2:\n",
    "            # if the time expires, drop the passenger off and reset the related variables\n",
    "            if self.model.time - self.start_journey >= 10:\n",
    "                self.state = 1\n",
    "                self.cost += self.ask_price\n",
    "                self.journeys_time += 1\n",
    "                self.ask_price = 10\n",
    "                \n"
   ]
  },
  {
   "cell_type": "code",
   "execution_count": 3,
   "metadata": {
    "collapsed": true
   },
   "outputs": [],
   "source": [
    "class DriverModel(Agent):\n",
    "    def __init__(self,unique_id, model):\n",
    "        super().__init__(unique_id, model)\n",
    "        self.wealth = 0  # accumulated earning\n",
    "        self.state = 0   # 0: idle ; -1: occupied\n",
    "        self.start_journey = 0\n",
    "        self.jobs_time = 0 # accumuted number of jobs \n",
    "        self.passenger = None\n",
    "    \n",
    "    def step(self):\n",
    "        # if the taxi is in idle state, the driver looks for passengers\n",
    "        if self.state == 0:\n",
    "            self.find_passenger()\n",
    "        # otherwise it checks the drop-off timer\n",
    "        else:\n",
    "            self.drop_off_passenger()\n",
    "            \n",
    "    # driver selects a passenger based on the ask_price; the higest one is selected        \n",
    "    def find_passenger(self):\n",
    "        # find passengers in the same block\n",
    "        gridmates = self.model.grid.get_cell_list_contents([self.pos])\n",
    "        if len(gridmates) > 1:\n",
    "            passenger_list = [p for p in gridmates if p.unique_id <= N_passenger and p.state == 1]\n",
    "            # if the driver finds one passenger, it sets the related variables\n",
    "            if len(passenger_list) >= 1:\n",
    "                selected_passenger = max(passenger_list, key=attrgetter('ask_price'))\n",
    "                self.wealth += selected_passenger.ask_price\n",
    "                self.state = -1\n",
    "                selected_passenger.state = 2\n",
    "                selected_passenger.start_journey = self.model.time\n",
    "                self.start_journey = self.model.time\n",
    "                self.passenger = selected_passenger\n",
    "        \n",
    "    def move(self):\n",
    "        # an agent can only go to the neighboring block in one step\n",
    "        possible_steps = self.model.grid.get_neighborhood(self.pos, moore=True,include_center=False)\n",
    "        new_position = random.choice(possible_steps)\n",
    "        self.model.grid.move_agent(self, new_position)\n",
    "    \n",
    "    def drop_off_passenger(self):\n",
    "        if self.model.time - self.start_journey >= 10:\n",
    "            self.state = 0\n",
    "            self.jobs_time += 1\n",
    "            self.model.grid.move_agent(self.passenger, self.pos)\n",
    "        else:\n",
    "            self.move()\n",
    "        \n",
    "            "
   ]
  },
  {
   "cell_type": "code",
   "execution_count": 4,
   "metadata": {},
   "outputs": [
    {
     "data": {
      "text/plain": [
       "[100, 101, 102, 103, 104]"
      ]
     },
     "execution_count": 4,
     "metadata": {},
     "output_type": "execute_result"
    }
   ],
   "source": [
    "[i for i in range(100, 105)]"
   ]
  },
  {
   "cell_type": "code",
   "execution_count": 5,
   "metadata": {
    "collapsed": true
   },
   "outputs": [],
   "source": [
    "# the model\n",
    "class GrabModel(Model):\n",
    "    def __init__(self, width, height, N_driver, N_passenger):\n",
    "        self.num_drivers = N_driver\n",
    "        self.num_passenger = N_passenger\n",
    "        self.grid = MultiGrid(width, height,True)\n",
    "        self.schedule = RandomActivation(self)\n",
    "        self.time = 0\n",
    "        \n",
    "        for i in range(self.num_passenger):\n",
    "            a = PassengerModel(i, self)          \n",
    "            self.schedule.add(a)\n",
    "            \n",
    "            # passenger randomly distributed in \n",
    "            x = random.randrange(self.grid.width)\n",
    "            y = random.randrange(self.grid.height)\n",
    "            self.grid.place_agent(a, (x,y))\n",
    "            \n",
    "        for i in range(self.num_passenger, self.num_passenger+self.num_drivers):\n",
    "            a = DriverModel(i,self)          \n",
    "            self.schedule.add(a)\n",
    "            \n",
    "            x = random.randrange(self.grid.width)\n",
    "            y = random.randrange(self.grid.height)\n",
    "            self.grid.place_agent(a, (x,y)) \n",
    "            \n",
    "        self.datacollector = DataCollector(\n",
    "            #model_reporters={\"Gini\": compute_gini},\n",
    "            agent_reporters={\"Pay\": lambda a: a.unique_id})  \n",
    "        \n",
    "            \n",
    "    def step(self):\n",
    "        self.datacollector.collect(self)\n",
    "        self.schedule.step()\n",
    "        self.time += 1"
   ]
  },
  {
   "cell_type": "code",
   "execution_count": 6,
   "metadata": {
    "collapsed": true
   },
   "outputs": [],
   "source": [
    "model = GrabModel(10,10,N_driver,N_passenger)\n",
    "for i in range(1000):\n",
    "    model.step()\n",
    "    \n"
   ]
  },
  {
   "cell_type": "code",
   "execution_count": 7,
   "metadata": {},
   "outputs": [
    {
     "name": "stdout",
     "output_type": "stream",
     "text": [
      "854.5 28.6294319713\n"
     ]
    },
    {
     "data": {
      "image/png": "[encoded data removed]",
      "text/plain": [
       "<matplotlib.figure.Figure at 0x113a79470>"
      ]
     },
     "metadata": {},
     "output_type": "display_data"
    }
   ],
   "source": [
    "%matplotlib inline\n",
    "import matplotlib.pyplot as plt\n",
    "agent_wealth = [a.wealth for a in model.schedule.agents if a.unique_id >= N_passenger]\n",
    "plt.hist(agent_wealth)\n",
    "print(np.median(agent_wealth), np.std(agent_wealth))\n"
   ]
  },
  {
   "cell_type": "code",
   "execution_count": 8,
   "metadata": {},
   "outputs": [
    {
     "data": {
      "text/plain": [
       "(array([  8.,  14.,  22.,  25.,  26.,  33.,  24.,  30.,  13.,   5.]),\n",
       " array([ 77.,  78.,  79.,  80.,  81.,  82.,  83.,  84.,  85.,  86.,  87.]),\n",
       " <a list of 10 Patch objects>)"
      ]
     },
     "execution_count": 8,
     "metadata": {},
     "output_type": "execute_result"
    },
    {
     "data": {
      "image/png": "[encoded data removed]",
      "text/plain": [
       "<matplotlib.figure.Figure at 0x113a39470>"
      ]
     },
     "metadata": {},
     "output_type": "display_data"
    }
   ],
   "source": [
    "agent_jobs_time = [a.jobs_time for a in model.schedule.agents if a.unique_id >= N_passenger]\n",
    "plt.hist(agent_jobs_time)"
   ]
  },
  {
   "cell_type": "code",
   "execution_count": 9,
   "metadata": {},
   "outputs": [
    {
     "data": {
      "text/plain": [
       "(array([  1.,   0.,   2.,   6.,   7.,  15.,  37.,  25.,   7.,   1.]),\n",
       " array([ 58. ,  60.8,  63.6,  66.4,  69.2,  72. ,  74.8,  77.6,  80.4,\n",
       "         83.2,  86. ]),\n",
       " <a list of 10 Patch objects>)"
      ]
     },
     "execution_count": 9,
     "metadata": {},
     "output_type": "execute_result"
    },
    {
     "data": {
      "image/png": "[encoded data removed]",
      "text/plain": [
       "<matplotlib.figure.Figure at 0x117e5f160>"
      ]
     },
     "metadata": {},
     "output_type": "display_data"
    }
   ],
   "source": [
    "agent_journeys_time = [a.journeys_time for a in model.schedule.agents if a.unique_id <= N_passenger/2]\n",
    "plt.hist(agent_journeys_time)"
   ]
  },
  {
   "cell_type": "code",
   "execution_count": 10,
   "metadata": {},
   "outputs": [
    {
     "data": {
      "text/plain": [
       "(array([  2.,   1.,   2.,   5.,   8.,   8.,  35.,  22.,   9.,   8.]),\n",
       " array([ 79. ,  80.3,  81.6,  82.9,  84.2,  85.5,  86.8,  88.1,  89.4,\n",
       "         90.7,  92. ]),\n",
       " <a list of 10 Patch objects>)"
      ]
     },
     "execution_count": 10,
     "metadata": {},
     "output_type": "execute_result"
    },
    {
     "data": {
      "image/png": "[encoded data removed]",
      "text/plain": [
       "<matplotlib.figure.Figure at 0x117fe6b38>"
      ]
     },
     "metadata": {},
     "output_type": "display_data"
    }
   ],
   "source": [
    "agent_jobs_time = [a.journeys_time for a in model.schedule.agents if a.unique_id >= N_passenger/2 and a.unique_id < N_passenger]\n",
    "plt.hist(agent_jobs_time)"
   ]
  },
  {
   "cell_type": "code",
   "execution_count": 11,
   "metadata": {},
   "outputs": [
    {
     "data": {
      "text/plain": [
       "<matplotlib.colorbar.Colorbar at 0x1181a4978>"
      ]
     },
     "execution_count": 11,
     "metadata": {},
     "output_type": "execute_result"
    },
    {
     "data": {
      "image/png": "[encoded data removed]",
      "text/plain": [
       "<matplotlib.figure.Figure at 0x118006e10>"
      ]
     },
     "metadata": {},
     "output_type": "display_data"
    }
   ],
   "source": [
    "driver_counts = np.zeros((model.grid.width,model.grid.height))\n",
    "ratio_counts = np.zeros((model.grid.width,model.grid.height))\n",
    "for cell in model.grid.coord_iter():\n",
    "    cell_content, x, y = cell\n",
    "    driver_count = len([a for a in cell_content if a.unique_id >= N_passenger])\n",
    "    driver_counts[x][y] = driver_count\n",
    "    passenger_count = len([a for a in cell_content if a.unique_id <= N_passenger])\n",
    "    ratio_counts[x][y] = (passenger_count+1)/(driver_count+1)  #avoid division by 0\n",
    "plt.imshow(ratio_counts, interpolation='nearest')\n",
    "plt.colorbar()\n"
   ]
  },
  {
   "cell_type": "code",
   "execution_count": 12,
   "metadata": {},
   "outputs": [
    {
     "data": {
      "text/plain": [
       "<matplotlib.colorbar.Colorbar at 0x115d5c9b0>"
      ]
     },
     "execution_count": 12,
     "metadata": {},
     "output_type": "execute_result"
    },
    {
     "data": {
      "image/png": "[encoded data removed]",
      "text/plain": [
       "<matplotlib.figure.Figure at 0x11800d358>"
      ]
     },
     "metadata": {},
     "output_type": "display_data"
    }
   ],
   "source": [
    "plt.imshow(driver_counts, interpolation='nearest')\n",
    "plt.colorbar()"
   ]
  },
  {
   "cell_type": "code",
   "execution_count": null,
   "metadata": {
    "collapsed": true
   },
   "outputs": [],
   "source": []
  }
 ],
 "metadata": {
  "celltoolbar": "Raw Cell Format",
  "kernelspec": {
   "display_name": "Python 3",
   "language": "python",
   "name": "python3"
  },
  "language_info": {
   "codemirror_mode": {
    "name": "ipython",
    "version": 3
   },
   "file_extension": ".py",
   "mimetype": "text/x-python",
   "name": "python",
   "nbconvert_exporter": "python",
   "pygments_lexer": "ipython3",
   "version": "3.6.3"
  }
 },
 "nbformat": 4,
 "nbformat_minor": 2
}
